{
  "nbformat": 4,
  "nbformat_minor": 0,
  "metadata": {
    "colab": {
      "provenance": []
    },
    "kernelspec": {
      "name": "python3",
      "display_name": "Python 3"
    },
    "language_info": {
      "name": "python"
    }
  },
  "cells": [
    {
      "cell_type": "code",
      "execution_count": 1,
      "metadata": {
        "id": "PrcJbJhWi0Tn"
      },
      "outputs": [],
      "source": [
        "#Problem 1 :\n",
        "def quicksort(arr):\n",
        "  if len(arr) <= 1:\n",
        "    return arr\n",
        "  pivot = arr[len(arr) // 2]\n",
        "  left = [x for x in arr if x < pivot]\n",
        "  middle = [x for x in arr if x == pivot]\n",
        "  right = [x for x in arr if x > pivot]\n",
        "  return quicksort(left) + middle + quicksort(right)\n",
        "\n",
        "#average-case time complexity = O(nlogn)\n",
        "#worst-case time complexity = O(n^2)"
      ]
    },
    {
      "cell_type": "code",
      "source": [
        "#Problem 2 :\n",
        "def nested_loop_example(matrix):\n",
        "  rows, cols = len(matrix), len(matrix[0])\n",
        "  total = 0\n",
        "  for i in range(rows):\n",
        "    for j in range(cols):\n",
        "      total += matrix[i][j]\n",
        "  return total\n",
        "\n",
        "#worst-case time complexity = O(rows*cols) = O(n*m) = O(n^2)"
      ],
      "metadata": {
        "id": "WqedPCiAjo9V"
      },
      "execution_count": 2,
      "outputs": []
    },
    {
      "cell_type": "code",
      "source": [
        "#Problem 3 :\n",
        "def example_function(arr):\n",
        "  result = 0\n",
        "  for element in arr:\n",
        "    result += element\n",
        "  return result\n",
        "\n",
        "#worst-case time complexity = O(n), where n = length of arr"
      ],
      "metadata": {
        "id": "p3u-T_CakG1e"
      },
      "execution_count": 3,
      "outputs": []
    },
    {
      "cell_type": "code",
      "source": [
        "#Problem 4 :\n",
        "def longest_increasing_subsequence(nums):\n",
        "  n = len(nums)\n",
        "  lis = [1] * n\n",
        "  for i in range(1, n):\n",
        "    for j in range(0, i):\n",
        "      if nums[i] > nums[j] and lis[i] < lis[j] + 1:\n",
        "        lis[i] = lis[j] + 1\n",
        "  return max(lis)\n",
        "\n",
        "#worst-case time complexity = O(n^2), where n = length of arr"
      ],
      "metadata": {
        "id": "KmNkUDfUkWV4"
      },
      "execution_count": 4,
      "outputs": []
    },
    {
      "cell_type": "code",
      "source": [
        "#Problem 5 :\n",
        "def mysterious_function(arr):\n",
        "  n = len(arr)\n",
        "  result = 0\n",
        "  for i in range(n):\n",
        "    for j in range(i, n):\n",
        "      result += arr[i] * arr[j]\n",
        "  return result\n",
        "\n",
        "#worst-case time complexity = O(n^2), where n = length of arr\n"
      ],
      "metadata": {
        "id": "rDTtqjTRkvAh"
      },
      "execution_count": 5,
      "outputs": []
    },
    {
      "cell_type": "code",
      "source": [
        "# Problem 6 : Sum of Digits\n",
        "# Write a recursive function to calculate the sum of digits of a given positive integer.\n",
        "# sum_of_digits(123) -> 6\n",
        "\n",
        "def sum_of_digits(n):\n",
        "  if n == 0:\n",
        "    return 0\n",
        "  return n%10 + sum_of_digits(n//10)\n",
        "\n",
        "print(sum_of_digits(123))"
      ],
      "metadata": {
        "colab": {
          "base_uri": "https://localhost:8080/"
        },
        "id": "XDGJJwgNlSeK",
        "outputId": "0703dca9-774b-4fa2-8657-53133ab530f6"
      },
      "execution_count": 10,
      "outputs": [
        {
          "output_type": "stream",
          "name": "stdout",
          "text": [
            "6\n"
          ]
        }
      ]
    },
    {
      "cell_type": "code",
      "source": [
        "# Problem 7: Fibonacci Series\n",
        "# Write a recursive function to generate the first n numbers of the Fibonacci series.\n",
        "# fibonacci_series(6) -> [0, 1, 1, 2, 3, 5]\n",
        "\n",
        "def Fibonacci(n):\n",
        "  if n <= 1:\n",
        "    return n\n",
        "  return Fibonacci(n-1) + Fibonacci(n-2)\n",
        "\n",
        "for i in range(0, 7):\n",
        "  print(Fibonacci(i), end=\" \")"
      ],
      "metadata": {
        "colab": {
          "base_uri": "https://localhost:8080/"
        },
        "id": "dYadU8sxmN1E",
        "outputId": "7a3d4de6-bf32-4ab7-8719-a525a1a49d51"
      },
      "execution_count": 17,
      "outputs": [
        {
          "output_type": "stream",
          "name": "stdout",
          "text": [
            "0 1 1 2 3 5 8 "
          ]
        }
      ]
    },
    {
      "cell_type": "code",
      "source": [
        "# Problem 8 : Subset Sum\n",
        "# Given a set of positive integers and a target sum, write a recursive function to determine if there exists a subset\n",
        "# of the integers that adds up to the target sum.\n",
        "# subset_sum([3, 34, 4, 12, 5, 2], 9) -> True\n",
        "\n",
        "def subset_sum(nums, target, idx=0):\n",
        "  if target == 0:\n",
        "    return True\n",
        "  if idx >= len(nums) or target < 0:\n",
        "    return False\n",
        "\n",
        "  return subset_sum(nums, target - nums[idx], idx + 1) or \\\n",
        "         subset_sum(nums, target, idx + 1)\n",
        "\n",
        "nums = [3, 34, 4, 12, 5, 2]\n",
        "target = 9\n",
        "result = subset_sum(nums, target)\n",
        "print(\"Subset sum exists:\", result)"
      ],
      "metadata": {
        "colab": {
          "base_uri": "https://localhost:8080/"
        },
        "id": "CjD6SwSKnZcu",
        "outputId": "970442d5-c8e0-4f79-fd21-f975ec1fc5e3"
      },
      "execution_count": 19,
      "outputs": [
        {
          "output_type": "stream",
          "name": "stdout",
          "text": [
            "Subset sum exists: True\n"
          ]
        }
      ]
    },
    {
      "cell_type": "code",
      "source": [
        "# Problem 9: Word Break\n",
        "# Given a non-empty string and a dictionary of words, write a recursive function to determine if the string can be\n",
        "# segmented into a space-separated sequence of dictionary words.\n",
        "# word_break( leetcode , [ leet , code ]) -> True\n",
        "\n",
        "def word_break(s, word_dict):\n",
        "    def helper(i):\n",
        "        if i == len(s):\n",
        "            return True\n",
        "\n",
        "        for j in range(i + 1, len(s) + 1):\n",
        "            prefix = s[i:j]\n",
        "            if prefix in word_dict and helper(j):\n",
        "                return True\n",
        "\n",
        "        return False\n",
        "\n",
        "    return helper(0)\n",
        "\n",
        "s = \"leetcode\"\n",
        "word_dict = {\"leet\", \"code\"}\n",
        "result = word_break(s, word_dict)\n",
        "print(\"Can the string be segmented:\", result)"
      ],
      "metadata": {
        "colab": {
          "base_uri": "https://localhost:8080/"
        },
        "id": "Q2mLTC7dqSnN",
        "outputId": "1a193857-4f66-4e9f-9f8b-144639fc51dd"
      },
      "execution_count": 20,
      "outputs": [
        {
          "output_type": "stream",
          "name": "stdout",
          "text": [
            "Can the string be segmented: True\n"
          ]
        }
      ]
    },
    {
      "cell_type": "code",
      "source": [
        "# Problem 10 : N-Queens\n",
        "# Implement a recursive function to solve the N Queens problem, where you have to place N queens on an N×N\n",
        "# chessboard in such a way that no two queens threaten each other.\n",
        "# n_queens(4)\n",
        "# [\n",
        "# [\".Q..\",\n",
        "# \"...Q\",\n",
        "# \"Q...\",\n",
        "# \"..Q.\"],\n",
        "# [\"..Q.\",\n",
        "# \"Q...\",\n",
        "# \"...Q\",\n",
        "# \".Q..\"]\n",
        "# ]\n",
        "\n",
        "def n_queens(n):\n",
        "\n",
        "    def is_valid(row, col, queens):\n",
        "        for r, c in queens:\n",
        "            if row == r or col == c or abs(row - r) == abs(col - c):\n",
        "                return False\n",
        "        return True\n",
        "\n",
        "    def solve(row, queens):\n",
        "        if row == n:\n",
        "            return [queens]\n",
        "\n",
        "        solutions = []\n",
        "        for col in range(n):\n",
        "            if is_valid(row, col, queens):\n",
        "                solutions.extend(solve(row + 1, queens + [(row, col)]))\n",
        "        return solutions\n",
        "\n",
        "    return solve(0, [])\n",
        "\n",
        "solutions = n_queens(4)\n",
        "print(\"Number of solutions:\", len(solutions))\n",
        "print(\"Solutions:\")\n",
        "for solution in solutions:\n",
        "    print(solution)\n"
      ],
      "metadata": {
        "colab": {
          "base_uri": "https://localhost:8080/"
        },
        "id": "_wj5OiG1qpGT",
        "outputId": "0aa1b5be-6225-4873-f16a-cfa4a505f88c"
      },
      "execution_count": 21,
      "outputs": [
        {
          "output_type": "stream",
          "name": "stdout",
          "text": [
            "Number of solutions: 2\n",
            "Solutions:\n",
            "[(0, 1), (1, 3), (2, 0), (3, 2)]\n",
            "[(0, 2), (1, 0), (2, 3), (3, 1)]\n"
          ]
        }
      ]
    }
  ]
}